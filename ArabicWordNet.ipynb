{
 "cells": [
  {
   "cell_type": "code",
   "execution_count": 1,
   "metadata": {
    "collapsed": false
   },
   "outputs": [
    {
     "name": "stdout",
     "output_type": "stream",
     "text": [
      "processing file  awn.xml\n",
      "<open file 'awn.xml', mode 'r' at 0x000000000372F030>\n"
     ]
    }
   ],
   "source": [
    "from AWNDatabaseManagement import wn\n",
    "synsets = wn.get_synsetids_from_word(u\"الأردن\")\n"
   ]
  },
  {
   "cell_type": "code",
   "execution_count": 2,
   "metadata": {
    "collapsed": false
   },
   "outputs": [
    {
     "name": "stdout",
     "output_type": "stream",
     "text": [
      "itemid  Ardn_n1AR\n",
      "offset  108739911\n",
      "name  اردن\n",
      "type  synset\n",
      "pos  n\n",
      "input links  [[u'has_hyponym', u'nahor_n1AR'], [u'has_instance', u'nahor_n1AR']]\n",
      "output links  []\n"
     ]
    }
   ],
   "source": [
    "for s in synsets:\n",
    "    wn._items[s].describe()\n",
    "    \n"
   ]
  },
  {
   "cell_type": "code",
   "execution_count": 6,
   "metadata": {
    "collapsed": false
   },
   "outputs": [
    {
     "name": "stdout",
     "output_type": "stream",
     "text": [
      "الجسمNone\n"
     ]
    }
   ],
   "source": [
    "synsets = wn.get_synsetids_from_word(u\"الجسم\")\n",
    "print \"الجسم\" + str(synsets)\n",
    "    \n",
    "lemmas_in_WordNet= wn.get_words(False)\n",
    "\n",
    "\n"
   ]
  },
  {
   "cell_type": "markdown",
   "metadata": {
    "collapsed": false
   },
   "source": [
    "print len(lemmas_in_WordNet)\n",
    "for lemma in lemmas_in_WordNet:\n",
    "    print lemma[0]"
   ]
  },
  {
   "cell_type": "markdown",
   "metadata": {},
   "source": [
    "# test"
   ]
  },
  {
   "cell_type": "markdown",
   "metadata": {
    "collapsed": true
   },
   "source": []
  }
 ],
 "metadata": {
  "kernelspec": {
   "display_name": "Python 2",
   "language": "python",
   "name": "python2"
  },
  "language_info": {
   "codemirror_mode": {
    "name": "ipython",
    "version": 2
   },
   "file_extension": ".py",
   "mimetype": "text/x-python",
   "name": "python",
   "nbconvert_exporter": "python",
   "pygments_lexer": "ipython2",
   "version": "2.7.11"
  }
 },
 "nbformat": 4,
 "nbformat_minor": 0
}
