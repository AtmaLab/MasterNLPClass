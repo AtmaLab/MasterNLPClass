{
 "cells": [
  {
   "cell_type": "markdown",
   "metadata": {},
   "source": [
    "# Rregular expressions"
   ]
  },
  {
   "cell_type": "markdown",
   "metadata": {},
   "source": [
    "## Regular expressions is a special sequence of characters that helps you match or find other strings or sets of strings, using a specialized syntax held in a pattern. "
   ]
  },
  {
   "cell_type": "markdown",
   "metadata": {},
   "source": [
    "## The module re provides full support for regular expressions in Python."
   ]
  },
  {
   "cell_type": "markdown",
   "metadata": {},
   "source": [
    "## The match Function:\n",
    "This function attempts to match RE pattern to string with optional flags.\n",
    "\n",
    "Here is the syntax for this function:\n",
    "\n",
    "re.match(pattern, string, flags=0)"
   ]
  },
  {
   "cell_type": "code",
   "execution_count": 1,
   "metadata": {
    "collapsed": false
   },
   "outputs": [
    {
     "name": "stdout",
     "output_type": "stream",
     "text": [
      "matchObj.group() :  Cats are smarter than dogs\n",
      "matchObj.group(1) :  Cats\n",
      "matchObj.group(2) :  smarter\n"
     ]
    }
   ],
   "source": [
    "#\n",
    "import re\n",
    "\n",
    "line = \"Cats are smarter than dogs\"\n",
    "\n",
    "#          re.match( pattern             , string, flags=0)\n",
    "matchObj = re.match( r'(.*) are (.*?) .*', line  , re.M|re.I)\n",
    "\n",
    "if matchObj:\n",
    "   print \"matchObj.group() : \", matchObj.group()\n",
    "   print \"matchObj.group(1) : \", matchObj.group(1)\n",
    "   print \"matchObj.group(2) : \", matchObj.group(2)\n",
    "else:\n",
    "   print \"No match!!\""
   ]
  },
  {
   "cell_type": "markdown",
   "metadata": {},
   "source": [
    "## pattern:\tThis is the regular expression to be matched."
   ]
  },
  {
   "cell_type": "markdown",
   "metadata": {},
   "source": [
    "## string:\tThis is the string, which would be searched to match the pattern at the beginning of string."
   ]
  },
  {
   "cell_type": "markdown",
   "metadata": {},
   "source": [
    "## Flags:\tYou can specify different flags using bitwise OR (|). These are modifiers, which are listed later."
   ]
  },
  {
   "cell_type": "markdown",
   "metadata": {},
   "source": [
    "## The search Function\"\n",
    "\n",
    "This function searches for first occurrence of RE pattern within string with optional flags.\n",
    "\n",
    "Here is the syntax for this function:\n",
    "\n",
    "re.search(pattern, string, flags=0)"
   ]
  },
  {
   "cell_type": "code",
   "execution_count": 4,
   "metadata": {
    "collapsed": false
   },
   "outputs": [
    {
     "name": "stdout",
     "output_type": "stream",
     "text": [
      "searchObj.group() :  Cats are smarter than dogs\n",
      "searchObj.group(1) :  Cats\n",
      "searchObj.group(2) :  smarter\n"
     ]
    }
   ],
   "source": [
    "#\n",
    "import re\n",
    "\n",
    "line = \"Cats are smarter than dogs\";\n",
    "\n",
    "searchObj = re.search( r'(.*) are (.*?) .*', line, re.M|re.I)\n",
    "\n",
    "if searchObj:\n",
    "   print \"searchObj.group() : \", searchObj.group()\n",
    "   print \"searchObj.group(1) : \", searchObj.group(1)\n",
    "   print \"searchObj.group(2) : \", searchObj.group(2)\n",
    "else:\n",
    "   print \"Nothing found!!\"\n",
    "\n"
   ]
  },
  {
   "cell_type": "markdown",
   "metadata": {},
   "source": [
    "## Matching Versus Searching\n",
    "\n",
    "Python offers two different primitive operations based on regular expressions: match checks for a match only at the beginning of the string, while search checks for a match anywhere in the string "
   ]
  },
  {
   "cell_type": "code",
   "execution_count": 4,
   "metadata": {
    "collapsed": false
   },
   "outputs": [
    {
     "name": "stdout",
     "output_type": "stream",
     "text": [
      "match --> No match!!\n",
      "search --> searchObj.group() :  dogs\n"
     ]
    }
   ],
   "source": [
    "import re\n",
    "\n",
    "line = \"Cats are smarter than dogs\";\n",
    "\n",
    "matchObj = re.match( r'dogs', line, re.M|re.I)\n",
    "if matchObj:\n",
    "   print \"match --> matchObj.group() : \", matchObj.group()\n",
    "else:\n",
    "   print \"match --> No match!!\"\n",
    "\n",
    "searchObj = re.search( r'dogs', line, re.M|re.I)\n",
    "if searchObj:\n",
    "   print \"search --> searchObj.group() : \", searchObj.group()\n",
    "else:\n",
    "   print \"search --> Nothing found!!\""
   ]
  },
  {
   "cell_type": "markdown",
   "metadata": {},
   "source": [
    "## Search and Replace\n",
    "\n",
    "One of the most important re methods that use regular expressions is sub.\n",
    "\n",
    "Syntax\n",
    "\n",
    "re.sub(pattern, repl, string, max=0)\n",
    "\n",
    "This method replaces all occurrences of the RE pattern in string with repl, substituting all occurrences unless max provided. This method returns modified string."
   ]
  },
  {
   "cell_type": "code",
   "execution_count": 66,
   "metadata": {
    "collapsed": false
   },
   "outputs": [
    {
     "name": "stdout",
     "output_type": "stream",
     "text": [
      "Phone Num :  2004-959-559 \n",
      "Phone Num :  2004959559\n"
     ]
    }
   ],
   "source": [
    "#\n",
    "import re\n",
    "\n",
    "phone = \"2004-959-559 # This is Phone Number\"\n",
    "\n",
    "# Delete Python-style comments\n",
    "num = re.sub(r'#.*$', \"\", phone)\n",
    "print \"Phone Num : \", num\n",
    "\n",
    "# Remove anything other than digits\n",
    "phone = \"2004-959-559 # This is Phone Number\"\n",
    "num = re.sub(r'\\D', \"\", phone)    \n",
    "print \"Phone Num : \", num"
   ]
  },
  {
   "cell_type": "markdown",
   "metadata": {},
   "source": [
    "## Regular Expression Patterns\n",
    "\n",
    "Except for control characters, (+ ? . * ^ $ ( ) [ ] { } | \\), all characters match themselves. You can escape a control character by preceding it with a backslash.\n",
    "\n",
    "Following table lists the regular expression syntax that is available in Python:"
   ]
  },
  {
   "cell_type": "markdown",
   "metadata": {},
   "source": [
    "## Regular Expression Example1\n",
    "Literal characters\n",
    "python\tMatch \"python\". "
   ]
  },
  {
   "cell_type": "code",
   "execution_count": 5,
   "metadata": {
    "collapsed": false
   },
   "outputs": [
    {
     "name": "stdout",
     "output_type": "stream",
     "text": [
      "searchObj.group() :  python\n"
     ]
    }
   ],
   "source": [
    "line = \"python is the programming language not the python animal\";\n",
    "\n",
    "searchObj = re.search( r'python', line, re.M|re.I)\n",
    "\n",
    "if searchObj:\n",
    "   print \"searchObj.group() : \", searchObj.group()\n",
    "   \n",
    "else:\n",
    "   print \"Nothing found!!\""
   ]
  },
  {
   "cell_type": "markdown",
   "metadata": {},
   "source": [
    "## Regular Expression Example2\n",
    "Character classes\n",
    "[Pp]ython \tMatch \"Python\" or \"python\" \n",
    "\n",
    "rub[ye]\tMatch \"ruby\" or \"rube\"\n",
    "\n",
    "[aeiou]\tMatch any one lowercase vowel\n",
    "\n",
    "[0-9]\tMatch any digit; same as [0123456789]\n",
    "\n",
    "[a-z]\tMatch any lowercase ASCII letter\n",
    "\n",
    "[A-Z]\tMatch any uppercase ASCII letter\n",
    "\n",
    "[a-zA-Z0-9]\tMatch any of the above\n",
    "\n",
    "[^aeiou]\tMatch anything other than a lowercase vowel\n",
    "\n",
    "[^0-9]\tMatch anything other than a digit"
   ]
  },
  {
   "cell_type": "code",
   "execution_count": 71,
   "metadata": {
    "collapsed": false
   },
   "outputs": [
    {
     "name": "stdout",
     "output_type": "stream",
     "text": [
      "searchObj.group() :   Python \n"
     ]
    }
   ],
   "source": [
    "line = \"175 Python is the programming language not the python animal, rube is another programming language founded at 2007\";\n",
    "\n",
    "searchObj = re.search( r' [Pp]ython ', line)\n",
    "\n",
    "if searchObj:\n",
    "   print \"searchObj.group() : \", searchObj.group()\n",
    "   \n",
    "else:\n",
    "   print \"Nothing found!!\""
   ]
  },
  {
   "cell_type": "code",
   "execution_count": 70,
   "metadata": {
    "collapsed": false
   },
   "outputs": [
    {
     "name": "stdout",
     "output_type": "stream",
     "text": [
      "searchObj.group() :  rube\n"
     ]
    }
   ],
   "source": [
    "searchObj = re.search( r'rub[ye]', line)\n",
    "\n",
    "if searchObj:\n",
    "   print \"searchObj.group() : \", searchObj.group()\n",
    "   \n",
    "else:\n",
    "   print \"Nothing found!!\""
   ]
  },
  {
   "cell_type": "code",
   "execution_count": 72,
   "metadata": {
    "collapsed": false
   },
   "outputs": [
    {
     "name": "stdout",
     "output_type": "stream",
     "text": [
      "searchObj.group() :  1\n"
     ]
    }
   ],
   "source": [
    "searchObj = re.search( r'[0-9]', line)\n",
    "if searchObj:\n",
    "   print \"searchObj.group() : \", searchObj.group()\n",
    "   \n",
    "else:\n",
    "   print \"Nothing found!!\"\n"
   ]
  },
  {
   "cell_type": "code",
   "execution_count": 74,
   "metadata": {
    "collapsed": false
   },
   "outputs": [
    {
     "name": "stdout",
     "output_type": "stream",
     "text": [
      "searchObj.group() :   P\n"
     ]
    }
   ],
   "source": [
    "searchObj = re.search( r' [a-zA-Z0-9]', line)\n",
    "if searchObj:\n",
    "   print \"searchObj.group() : \", searchObj.group()\n",
    "   \n",
    "else:\n",
    "   print \"Nothing found!!\"\n"
   ]
  },
  {
   "cell_type": "code",
   "execution_count": 76,
   "metadata": {
    "collapsed": false
   },
   "outputs": [
    {
     "name": "stdout",
     "output_type": "stream",
     "text": [
      "searchObj.group() :  o\n"
     ]
    }
   ],
   "source": [
    "searchObj = re.search( r'[aeiou]', line)\n",
    "if searchObj:\n",
    "   print \"searchObj.group() : \", searchObj.group()\n",
    "   \n",
    "else:\n",
    "   print \"Nothing found!!\"\n"
   ]
  },
  {
   "cell_type": "code",
   "execution_count": 25,
   "metadata": {
    "collapsed": false
   },
   "outputs": [
    {
     "name": "stdout",
     "output_type": "stream",
     "text": [
      "searchObj.group() :  P\n"
     ]
    }
   ],
   "source": [
    "searchObj = re.search( r'[^0-9]', line)\n",
    "if searchObj:\n",
    "   print \"searchObj.group() : \", searchObj.group()\n",
    "   \n",
    "else:\n",
    "   print \"Nothing found!!\"\n",
    "\n"
   ]
  },
  {
   "cell_type": "markdown",
   "metadata": {},
   "source": [
    "## Regular Expression Example3\n",
    "Special Character Classes\n",
    ".\tMatch any character except newline\n",
    "\n",
    "\\d\tMatch a digit: [0-9]\n",
    "\n",
    "\\D \tMatch a nondigit: [^0-9]\n",
    "\n",
    "\\s\tMatch a whitespace character: [ \\t\\r\\n\\f]\n",
    "\n",
    "\\S \tMatch nonwhitespace: [^ \\t\\r\\n\\f]\n",
    "\n",
    "\\w\tMatch a single word character: [A-Za-z0-9_]\n",
    "\n",
    "\\W\tMatch a nonword character: [^A-Za-z0-9_]\n"
   ]
  },
  {
   "cell_type": "code",
   "execution_count": 78,
   "metadata": {
    "collapsed": false
   },
   "outputs": [
    {
     "name": "stdout",
     "output_type": "stream",
     "text": [
      "searchObj.group() :   \n"
     ]
    }
   ],
   "source": [
    "searchObj = re.search( r'\\s', line)\n",
    "if searchObj:\n",
    "   print \"searchObj.group() : \", searchObj.group()\n",
    "   \n",
    "else:\n",
    "   print \"Nothing found!!\"\n"
   ]
  },
  {
   "cell_type": "markdown",
   "metadata": {},
   "source": [
    "## Regular Expression Example4\n",
    "Repetition Cases\n",
    "\n",
    "ruby? \tMatch \"rub\" or \"ruby\": the y is optional\n",
    "\n",
    "ruby* \tMatch \"rub\" plus 0 or more ys\n",
    "\n",
    "ruby+\tMatch \"rub\" plus 1 or more ys\n",
    "\n",
    "\\d{3}\tMatch exactly 3 digits\n",
    "\n",
    "\\d{3,}\tMatch 3 or more digits\n",
    "\n",
    "\\d{3,5}\tMatch 3, 4, or 5 digits\n"
   ]
  },
  {
   "cell_type": "code",
   "execution_count": 79,
   "metadata": {
    "collapsed": false
   },
   "outputs": [
    {
     "name": "stdout",
     "output_type": "stream",
     "text": [
      "searchObj.group() :  rub\n"
     ]
    }
   ],
   "source": [
    "line = \" rub is ruby\"\n",
    "searchObj = re.search( r'ruby?', line)\n",
    "if searchObj:\n",
    "   print \"searchObj.group() : \", searchObj.group()\n",
    "   \n",
    "else:\n",
    "   print \"Nothing found!!\"\n"
   ]
  },
  {
   "cell_type": "code",
   "execution_count": 81,
   "metadata": {
    "collapsed": false
   },
   "outputs": [
    {
     "name": "stdout",
     "output_type": "stream",
     "text": [
      "searchObj.group() :  ruby\n"
     ]
    }
   ],
   "source": [
    "line = \"Python and ruby\"\n",
    "searchObj = re.search( r'ruby*', line)\n",
    "if searchObj:\n",
    "   print \"searchObj.group() : \", searchObj.group()\n",
    "   \n",
    "else:\n",
    "   print \"Nothing found!!\"\n"
   ]
  },
  {
   "cell_type": "code",
   "execution_count": 82,
   "metadata": {
    "collapsed": false
   },
   "outputs": [
    {
     "name": "stdout",
     "output_type": "stream",
     "text": [
      "searchObj.group() :  ruby\n"
     ]
    }
   ],
   "source": [
    "line = \"rub and ruby is the programming language not the python animal\"\n",
    "searchObj = re.search( r'ruby+', line)\n",
    "if searchObj:\n",
    "   print \"searchObj.group() : \", searchObj.group()\n",
    "   \n",
    "else:\n",
    "   print \"Nothing found!!\"\n"
   ]
  },
  {
   "cell_type": "code",
   "execution_count": 86,
   "metadata": {
    "collapsed": false
   },
   "outputs": [
    {
     "name": "stdout",
     "output_type": "stream",
     "text": [
      "searchObj.group() :  2/11/99\n"
     ]
    }
   ],
   "source": [
    "line = \"Python is the programming language not the python animal, ruby is another programming language founded at 2/11/99\";\n",
    "searchObj = re.search( r'\\d{1,2}/\\d{1,2}/\\d{2,4}', line)\n",
    "if searchObj:\n",
    "   print \"searchObj.group() : \", searchObj.group()\n",
    "   \n",
    "else:\n",
    "   print \"Nothing found!!\"\n"
   ]
  },
  {
   "cell_type": "markdown",
   "metadata": {},
   "source": [
    "## Regular Expression Example5\n",
    "Nongreedy repetition\n",
    "\n",
    "<.*>\tGreedy repetition: matches \"<python>perl>\"\n",
    "\n",
    "<.*?>\tNongreedy: matches \"<python>\" in \"<python>perl>\""
   ]
  },
  {
   "cell_type": "code",
   "execution_count": 36,
   "metadata": {
    "collapsed": false
   },
   "outputs": [
    {
     "name": "stdout",
     "output_type": "stream",
     "text": [
      "searchObj.group() :  <python>perl>\n"
     ]
    }
   ],
   "source": [
    "line = \"Python <python>perl> is the programming language not the python animal, ruby is another programming language founded at 2007\";\n",
    "searchObj = re.search( r'<.*>', line)\n",
    "if searchObj:\n",
    "   print \"searchObj.group() : \", searchObj.group()\n",
    "   \n",
    "else:\n",
    "   print \"Nothing found!!\"\n"
   ]
  },
  {
   "cell_type": "code",
   "execution_count": 37,
   "metadata": {
    "collapsed": false
   },
   "outputs": [
    {
     "name": "stdout",
     "output_type": "stream",
     "text": [
      "searchObj.group() :  <python>\n"
     ]
    }
   ],
   "source": [
    "line = \"Python <python>perl> is the programming language not the python animal, ruby is another programming language founded at 2007\";\n",
    "searchObj = re.search( r'<.*?>', line)\n",
    "if searchObj:\n",
    "   print \"searchObj.group() : \", searchObj.group()\n",
    "   \n",
    "else:\n",
    "   print \"Nothing found!!\""
   ]
  },
  {
   "cell_type": "markdown",
   "metadata": {},
   "source": [
    "## Regular Expression Example6\n",
    "Grouping with Parentheses\n",
    "\n",
    "\\D\\d+\tNo group: + repeats \\d\n",
    "\n",
    "(\\D\\d)+\tGrouped: + repeats \\D\\d pair\n",
    "\n",
    "([Pp]ython(, )?)+\tMatch \"Python\", \"Python, python, python\", etc."
   ]
  },
  {
   "cell_type": "code",
   "execution_count": 89,
   "metadata": {
    "collapsed": false
   },
   "outputs": [
    {
     "name": "stdout",
     "output_type": "stream",
     "text": [
      "searchObj.group() :   2007\n"
     ]
    }
   ],
   "source": [
    "line = \"Python <python>perl> is  not the python animal, ruby is another programming language founded at 2007\";\n",
    "searchObj = re.search( r'\\D\\d+', line)\n",
    "if searchObj:\n",
    "   print \"searchObj.group() : \", searchObj.group()\n",
    "   \n",
    "else:\n",
    "   print \"Nothing found!!\"\n"
   ]
  },
  {
   "cell_type": "code",
   "execution_count": 39,
   "metadata": {
    "collapsed": false
   },
   "outputs": [
    {
     "name": "stdout",
     "output_type": "stream",
     "text": [
      "searchObj.group() :   2\n"
     ]
    }
   ],
   "source": [
    "line = \"Python <python>perl> is the programming language not the python animal, ruby is another programming language founded at 2007\";\n",
    "searchObj = re.search( r'(\\D\\d)+', line)\n",
    "if searchObj:\n",
    "   print \"searchObj.group() : \", searchObj.group()\n",
    "   \n",
    "else:\n",
    "   print \"Nothing found!!\""
   ]
  },
  {
   "cell_type": "code",
   "execution_count": 47,
   "metadata": {
    "collapsed": false
   },
   "outputs": [
    {
     "name": "stdout",
     "output_type": "stream",
     "text": [
      "searchObj.group() :  Python, \n",
      "searchObj.group(1) :  Python, \n",
      "searchObj.group(2) :  , \n"
     ]
    }
   ],
   "source": [
    "line = \"Python, <python, >perl> \\\"Python\\\", \\\"Python, python, python\\\" is the programming language not the python animal, ruby is another programming language founded at 2007\";\n",
    "searchObj = re.search( r'([Pp]ython(, )?)+', line)\n",
    "if searchObj:\n",
    "   print \"searchObj.group() : \", searchObj.group()\n",
    "   print \"searchObj.group(1) : \", searchObj.group(1)\n",
    "   print \"searchObj.group(2) : \", searchObj.group(2)\n",
    "  \n",
    "   \n",
    "else:\n",
    "   print \"Nothing found!!\""
   ]
  },
  {
   "cell_type": "markdown",
   "metadata": {},
   "source": [
    "## Regular Expression Example7\n",
    "Alternatives\n",
    "\n",
    "python|perl\tMatch \"python\" or \"perl\"\n",
    "\n",
    "rub(y|le))\tMatch \"ruby\" or \"ruble\"\n",
    "\n",
    "Python(!+|\\?)\t\"Python\" followed by one or more ! or one ?"
   ]
  },
  {
   "cell_type": "code",
   "execution_count": 60,
   "metadata": {
    "collapsed": false
   },
   "outputs": [
    {
     "name": "stdout",
     "output_type": "stream",
     "text": [
      "searchObj.group() :  Python\n"
     ]
    }
   ],
   "source": [
    "line = \"Python, <python, > perl > \\\"Python\\\", \\\"Python, python, python\\\" is the programming language not the python animal, ruby is another programming language founded at 2007\";\n",
    "searchObj = re.search( r'[pP]ython|perl', line)\n",
    "if searchObj:\n",
    "   print \"searchObj.group() : \", searchObj.group()\n",
    "      \n",
    "else:\n",
    "   print \"Nothing found!!\"\n"
   ]
  },
  {
   "cell_type": "markdown",
   "metadata": {},
   "source": [
    "## Regular Expression Example8\n",
    "Anchors\n",
    "\n",
    "^Python\tMatch \"Python\" at the start of a string or internal line\n",
    "\n",
    "Python$ \tMatch \"Python\" at the end of a string or line\n",
    "\n",
    "\\APython \tMatch \"Python\" at the start of a string\n",
    "\n",
    "Python\\Z\tMatch \"Python\" at the end of a string\n",
    "\n",
    "\\bPython\\b\tMatch \"Python\" at a word boundary\n",
    "\n",
    "\\brub\\B\t\\B is nonword boundary: match \"rub\" in \"rube\" and \"ruby\" but not alone\n",
    "\n",
    "Python(?=!)\tMatch \"Python\", if followed by an exclamation point.\n",
    "\n",
    "Python(?!!)\tMatch \"Python\", if not followed by an exclamation point.\n"
   ]
  },
  {
   "cell_type": "code",
   "execution_count": 91,
   "metadata": {
    "collapsed": false
   },
   "outputs": [
    {
     "name": "stdout",
     "output_type": "stream",
     "text": [
      "ABC * 12\n",
      "DEF * 3\n",
      "G * 56\n",
      "HIJ * 7\n",
      "Python\n"
     ]
    }
   ],
   "source": [
    "s = \"ABC12DEF3G56HIJ7\"\n",
    "pattern = re.compile(r'([A-Z]+)([0-9]+)')\n",
    "\n",
    "for (letters, numbers) in re.findall(pattern, s):\n",
    "    print letters, '*',numbers\n",
    "    \n",
    "    \n",
    "line = \"Python, <python, > perl > \\\"Python\\\", \\\"Python, python, python\\\" is the programming language not the python animal, ruby is another programming language founded at 2007\";\n",
    "pattern = re.compile(r'^[Pp]ython|^perl')\n",
    "for (letters) in re.findall(pattern, line):\n",
    "    print  letters"
   ]
  },
  {
   "cell_type": "markdown",
   "metadata": {},
   "source": [
    "## Pattern\tDescription\n",
    "   ^\t      Matches beginning of line.\n",
    "\n",
    "   $\t      Matches end of line.\n",
    "\n",
    "   .\t      Matches any single character except newline. Using m option allows it to match newline as well.\n",
    "\n",
    "   [...]\t  Matches any single character in brackets.\n",
    "\n",
    "   [^...]\t  Matches any single character not in brackets\n",
    "\n",
    "   re*\t      Matches 0 or more occurrences of preceding expression.\n",
    "\n",
    "   re+\t      Matches 1 or more occurrence of preceding expression.\n",
    "\n",
    "   re?\t      Matches 0 or 1 occurrence of preceding expression.\n",
    "\n",
    "   re{ n}\t  Matches exactly n number of occurrences of preceding expression.\n",
    "\n",
    "   re{ n,}\t  Matches n or more occurrences of preceding expression.\n",
    "\n",
    "   re{ n, m}  Matches at least n and at most m occurrences of preceding expression.\n",
    "\n",
    "   a| b\t      Matches either a or b.\n",
    "\n",
    "   (re)\t      Groups regular expressions and remembers matched text.\n",
    "\n",
    "   (?imx)\t  Temporarily toggles on i, m, or x options within a regular expression. If in parentheses, only that area\n",
    "              is affected.\n",
    "              \n",
    "   (?-imx)\t  Temporarily toggles off i, m, or x options within a regular expression. If in parentheses, only that\n",
    "              area is affected.\n",
    "              \n",
    "   (?: re)\t  Groups regular expressions without remembering matched text.\n",
    "   \n",
    "   (?imx: re)\tTemporarily toggles on i, m, or x options within parentheses.\n",
    "   \n",
    "   (?-imx: re)\tTemporarily toggles off i, m, or x options within parentheses.\n",
    "   \n",
    "   (?#...)\tComment.\n",
    "   \n",
    "   (?= re)\tSpecifies position using a pattern. Doesn't have a range.\n",
    "   \n",
    "   (?! re)\tSpecifies position using pattern negation. Doesn't have a range.\n",
    "   \n",
    "   (?> re)\tMatches independent pattern without backtracking.\n",
    "   \n",
    "   \\w\tMatches word characters.\n",
    "   \n",
    "   \\W\tMatches nonword characters.\n",
    "   \n",
    "   \\s\tMatches whitespace. Equivalent to [\\t\\n\\r\\f].\n",
    "   \n",
    "   \\S\tMatches nonwhitespace.\n",
    "   \n",
    "   \\d\tMatches digits. Equivalent to [0-9].\n",
    "   \n",
    "   \\D\tMatches nondigits.\n",
    "   \n",
    "   \\A\tMatches beginning of string.\n",
    "   \n",
    "   \\Z\tMatches end of string. If a newline exists, it matches just before newline.\n",
    "   \n",
    "   \\z\tMatches end of string.\n",
    "   \n",
    "   \\G\tMatches point where last match finished.\n",
    "   \n",
    "   \\b\tMatches word boundaries when outside brackets. Matches backspace (0x08) when inside brackets.\n",
    "   \n",
    "   \\B\tMatches nonword boundaries.\n",
    "   \n",
    "   \\n, \\t, etc.\tMatches newlines, carriage returns, tabs, etc.\n",
    "   \n",
    "   \\1...\\9\tMatches nth grouped subexpression.\n",
    "   \n",
    "   \\10\tMatches nth grouped subexpression if it matched already. Otherwise refers to the octal representation of a\n",
    "        character code."
   ]
  },
  {
   "cell_type": "markdown",
   "metadata": {},
   "source": [
    "## Regular Expression Modifiers: Option Flags\n",
    "\n",
    "Regular expression literals may include an optional modifier to control various aspects of matching. \n",
    "The modifiers are specified as an optional flag. \n",
    "You can provide multiple modifiers using exclusive OR (|)and may be represented by one of these:"
   ]
  },
  {
   "cell_type": "markdown",
   "metadata": {},
   "source": [
    "## Modifier\t   Description\n",
    "\n",
    "   re.I\t        Performs case-insensitive matching.\n",
    "   re.L\t        Interprets words according to the current locale. This interpretation affects the alphabetic group \n",
    "                (\\w and \\W), as well as word boundary behavior (\\b and \\B).\n",
    "   re.M\t        Makes $ match the end of a line (not just the end of the string) and makes ^ match the start of any\n",
    "                line (not just the start of the string).\n",
    "   re.S\t        Makes a period (dot) match any character, including a newline.\n",
    "   re.U\t        Interprets letters according to the Unicode character set. This flag affects the \n",
    "                behavior of \\w, \\W, \\b, \\B.\n",
    "   re.X\t        Permits \"cuter\" regular expression syntax. It ignores whitespace (except inside a set [] or when\n",
    "                escaped by a backslash) and treats unescaped # as a comment marker."
   ]
  }
 ],
 "metadata": {
  "kernelspec": {
   "display_name": "Python 2",
   "language": "python",
   "name": "python2"
  },
  "language_info": {
   "codemirror_mode": {
    "name": "ipython",
    "version": 2
   },
   "file_extension": ".py",
   "mimetype": "text/x-python",
   "name": "python",
   "nbconvert_exporter": "python",
   "pygments_lexer": "ipython2",
   "version": "2.7.11"
  }
 },
 "nbformat": 4,
 "nbformat_minor": 0
}
