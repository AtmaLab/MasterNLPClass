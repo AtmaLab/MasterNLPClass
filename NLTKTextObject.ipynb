{
 "cells": [
  {
   "cell_type": "code",
   "execution_count": 1,
   "metadata": {
    "collapsed": false
   },
   "outputs": [
    {
     "name": "stdout",
     "output_type": "stream",
     "text": [
      "<class 'nltk.text.Text'>\n",
      "growing fields\n",
      "\n",
      "None\n"
     ]
    }
   ],
   "source": [
    "from __future__ import division  # Python 2 users only\n",
    "import nltk, re, pprint\n",
    "from nltk import word_tokenize\n",
    "\n",
    "raw = \"Princess Sumaya is the First ICT university in Jordan. ICT is one of the most growing fields in Jirdan. Information Technology is one of the most growing fields in Jirdan\"\n",
    "type(raw)\n",
    "\n",
    "tokens = word_tokenize(raw)\n",
    "type(tokens)\n",
    "text = nltk.Text(tokens)\n",
    "print type(text)\n",
    "text.collocations()\n",
    "print text.similar(\"ICT\")\n"
   ]
  },
  {
   "cell_type": "code",
   "execution_count": null,
   "metadata": {
    "collapsed": true
   },
   "outputs": [],
   "source": []
  }
 ],
 "metadata": {
  "kernelspec": {
   "display_name": "Python 2",
   "language": "python",
   "name": "python2"
  },
  "language_info": {
   "codemirror_mode": {
    "name": "ipython",
    "version": 2
   },
   "file_extension": ".py",
   "mimetype": "text/x-python",
   "name": "python",
   "nbconvert_exporter": "python",
   "pygments_lexer": "ipython2",
   "version": "2.7.11"
  }
 },
 "nbformat": 4,
 "nbformat_minor": 0
}
