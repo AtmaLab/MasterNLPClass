{
 "cells": [
  {
   "cell_type": "code",
   "execution_count": 11,
   "metadata": {
    "collapsed": false
   },
   "outputs": [
    {
     "name": "stdout",
     "output_type": "stream",
     "text": [
      "Displaying 5 of 5 matches:\n",
      "                                     كبير بمخزونه التراثي . يحوي الاردن عدد كب\n",
      "                                     كبير من اللاجئين السوريين . يعتبر الاردن \n",
      "                                     كبير بموارده البشريةحيث انه يحوي العديد م\n",
      "ي العديد من المواقع الاثرية مما جعلع كبير بمخزونه التراثي . يحوي الاردن عدد كب\n",
      "ير بمخزونه التراثي . يحوي الاردن عدد كبير من اللاجئين السوريين . يعتبر الاردن \n",
      "عظيم\n"
     ]
    }
   ],
   "source": [
    "from nltk import word_tokenize\n",
    "import nltk\n",
    "# To get every occurence of a given word within some contexte\n",
    "arabicText = unicode('.  كبير بمخزونه التراثي. يحوي الاردن عدد كبير من اللاجئين السوريين. يعتبر الاردن بلد كبير بموارده البشريةحيث انه يحوي العديد من المواقع الاثرية مما جعلع كبير بمخزونه التراثي. يحوي الاردن عدد كبير من اللاجئين السوريين. يعتبر الاردن بلد عظيم بموارده البشرية', encoding='utf-8') \n",
    "\n",
    "\n",
    "tokens = word_tokenize(arabicText)\n",
    "#for token in tokens:\n",
    "#    print token\n",
    "at = nltk.Text(tokens)\n",
    "at.concordance(unicode('كبير', encoding='utf-8'))  \n",
    "at.similar(unicode('كبير', encoding='utf-8'))"
   ]
  },
  {
   "cell_type": "code",
   "execution_count": null,
   "metadata": {
    "collapsed": true
   },
   "outputs": [],
   "source": []
  },
  {
   "cell_type": "code",
   "execution_count": null,
   "metadata": {
    "collapsed": true
   },
   "outputs": [],
   "source": []
  }
 ],
 "metadata": {
  "kernelspec": {
   "display_name": "Python 2",
   "language": "python",
   "name": "python2"
  },
  "language_info": {
   "codemirror_mode": {
    "name": "ipython",
    "version": 2
   },
   "file_extension": ".py",
   "mimetype": "text/x-python",
   "name": "python",
   "nbconvert_exporter": "python",
   "pygments_lexer": "ipython2",
   "version": "2.7.11"
  }
 },
 "nbformat": 4,
 "nbformat_minor": 0
}
