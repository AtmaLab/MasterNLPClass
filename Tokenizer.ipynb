{
 "cells": [
  {
   "cell_type": "code",
   "execution_count": 22,
   "metadata": {
    "collapsed": false
   },
   "outputs": [
    {
     "name": "stdout",
     "output_type": "stream",
     "text": [
      "University Sumaya  for    . Technology Princess    #    1   in  the   is  ICT \n",
      "   3    2    2    2    2    2    1    1    1    1    1    1 \n",
      "Princess\n",
      "Sumaya\n",
      "University\n",
      "for\n",
      "Technology\n",
      ".\n",
      "Princess\n",
      "Sumaya\n",
      "University\n",
      "for\n",
      "Technology\n",
      "is\n",
      "the\n",
      "University\n",
      "#\n",
      "1\n",
      "in\n",
      "ICT\n",
      ".\n",
      "<type 'list'>\n",
      "19\n",
      "اللغة\n",
      "العربية\n",
      "هي\n",
      "لغتي\n",
      "<type 'list'>\n",
      "4\n"
     ]
    }
   ],
   "source": [
    "from __future__ import division  # Python 2 users only\n",
    "import nltk, re, pprint\n",
    "from nltk import *\n",
    "\n",
    "raw1 = \"Princess Sumaya University for Technology. Princess Sumaya University for Technology is the University #1 in ICT.\"\n",
    "tokens = word_tokenize(raw1)\n",
    "\n",
    "fdist1 = FreqDist(tokens)\n",
    "fdist1.plot(50, cumulative=False)\n",
    "\n",
    "fdist1.tabulate()\n",
    "\n",
    "for token in tokens:\n",
    "    print token\n",
    "    \n",
    "print type(tokens)\n",
    "print len(tokens)\n",
    "\n",
    "raw2 = \"اللغة العربية هي لغتي\"\n",
    "\n",
    "tokens = word_tokenize(raw2)\n",
    "\n",
    "\n",
    "for token in tokens:\n",
    "    print token\n",
    "    \n",
    "print type(tokens)\n",
    "print len(tokens)\n"
   ]
  },
  {
   "cell_type": "code",
   "execution_count": null,
   "metadata": {
    "collapsed": true
   },
   "outputs": [],
   "source": []
  },
  {
   "cell_type": "code",
   "execution_count": null,
   "metadata": {
    "collapsed": true
   },
   "outputs": [],
   "source": []
  }
 ],
 "metadata": {
  "kernelspec": {
   "display_name": "Python 2",
   "language": "python",
   "name": "python2"
  },
  "language_info": {
   "codemirror_mode": {
    "name": "ipython",
    "version": 2
   },
   "file_extension": ".py",
   "mimetype": "text/x-python",
   "name": "python",
   "nbconvert_exporter": "python",
   "pygments_lexer": "ipython2",
   "version": "2.7.11"
  }
 },
 "nbformat": 4,
 "nbformat_minor": 0
}
